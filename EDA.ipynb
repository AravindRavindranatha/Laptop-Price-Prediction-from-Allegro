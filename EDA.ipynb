{
 "cells": [
  {
   "cell_type": "code",
   "execution_count": 1,
   "metadata": {},
   "outputs": [],
   "source": [
    "import pandas as pd\n",
    "import numpy as np\n",
    "import seaborn as sns\n",
    "import matplotlib.pyplot as plt\n",
    "import warnings\n",
    "import statistics\n",
    "\n",
    "warnings.filterwarnings('ignore')"
   ]
  },
  {
   "cell_type": "code",
   "execution_count": 2,
   "metadata": {},
   "outputs": [],
   "source": [
    "from sklearn.model_selection import train_test_split\n",
    "from sklearn.compose import ColumnTransformer\n",
    "from sklearn.pipeline import Pipeline\n",
    "from sklearn.preprocessing import OneHotEncoder\n",
    "from sklearn.metrics import r2_score,mean_absolute_error,mean_squared_error"
   ]
  },
  {
   "cell_type": "code",
   "execution_count": 3,
   "metadata": {},
   "outputs": [],
   "source": [
    "from sklearn.linear_model import LinearRegression,Ridge,Lasso\n",
    "from sklearn.neighbors import KNeighborsRegressor\n",
    "from sklearn.tree import DecisionTreeRegressor\n",
    "from sklearn.ensemble import RandomForestRegressor"
   ]
  },
  {
   "cell_type": "code",
   "execution_count": 4,
   "metadata": {},
   "outputs": [],
   "source": [
    "df=pd.read_excel('datasets/Data.xlsx')"
   ]
  },
  {
   "cell_type": "code",
   "execution_count": 5,
   "metadata": {},
   "outputs": [
    {
     "data": {
      "text/html": [
       "<div>\n",
       "<style scoped>\n",
       "    .dataframe tbody tr th:only-of-type {\n",
       "        vertical-align: middle;\n",
       "    }\n",
       "\n",
       "    .dataframe tbody tr th {\n",
       "        vertical-align: top;\n",
       "    }\n",
       "\n",
       "    .dataframe thead th {\n",
       "        text-align: right;\n",
       "    }\n",
       "</style>\n",
       "<table border=\"1\" class=\"dataframe\">\n",
       "  <thead>\n",
       "    <tr style=\"text-align: right;\">\n",
       "      <th></th>\n",
       "      <th>Unnamed: 0</th>\n",
       "      <th>graphic card type</th>\n",
       "      <th>communications</th>\n",
       "      <th>resolution (px)</th>\n",
       "      <th>CPU cores</th>\n",
       "      <th>RAM size</th>\n",
       "      <th>operating system</th>\n",
       "      <th>drive type</th>\n",
       "      <th>input devices</th>\n",
       "      <th>multimedia</th>\n",
       "      <th>RAM type</th>\n",
       "      <th>CPU clock speed (GHz)</th>\n",
       "      <th>CPU model</th>\n",
       "      <th>state</th>\n",
       "      <th>drive memory size (GB)</th>\n",
       "      <th>warranty</th>\n",
       "      <th>screen size</th>\n",
       "      <th>buynow_price</th>\n",
       "    </tr>\n",
       "  </thead>\n",
       "  <tbody>\n",
       "    <tr>\n",
       "      <th>0</th>\n",
       "      <td>7233</td>\n",
       "      <td>dedicated graphics</td>\n",
       "      <td>['bluetooth', 'lan 10/100/1000 mbps']</td>\n",
       "      <td>1920 x 1080</td>\n",
       "      <td>4</td>\n",
       "      <td>32 gb</td>\n",
       "      <td>['no system']</td>\n",
       "      <td>ssd + hdd</td>\n",
       "      <td>['keyboard', 'touchpad', 'illuminated keyboard...</td>\n",
       "      <td>['SD card reader', 'camera', 'speakers', 'micr...</td>\n",
       "      <td>ddr4</td>\n",
       "      <td>2.6</td>\n",
       "      <td>intel core i7</td>\n",
       "      <td>new</td>\n",
       "      <td>1250.0</td>\n",
       "      <td>producer warranty</td>\n",
       "      <td>17\" - 17.9\"</td>\n",
       "      <td>4999.0</td>\n",
       "    </tr>\n",
       "    <tr>\n",
       "      <th>1</th>\n",
       "      <td>5845</td>\n",
       "      <td>dedicated graphics</td>\n",
       "      <td>['wi-fi', 'bluetooth', 'lan 10/100 mbps']</td>\n",
       "      <td>1366 x 768</td>\n",
       "      <td>4</td>\n",
       "      <td>8 gb</td>\n",
       "      <td>['windows 10 home']</td>\n",
       "      <td>ssd</td>\n",
       "      <td>['keyboard', 'touchpad', 'numeric keyboard']</td>\n",
       "      <td>['SD card reader', 'camera', 'speakers', 'micr...</td>\n",
       "      <td>ddr3</td>\n",
       "      <td>2.4</td>\n",
       "      <td>intel core i7</td>\n",
       "      <td>new</td>\n",
       "      <td>256.0</td>\n",
       "      <td>seller warranty</td>\n",
       "      <td>15\" - 15.9\"</td>\n",
       "      <td>2649.0</td>\n",
       "    </tr>\n",
       "    <tr>\n",
       "      <th>2</th>\n",
       "      <td>10303</td>\n",
       "      <td>NaN</td>\n",
       "      <td>['bluetooth', 'nfc (near field communication)']</td>\n",
       "      <td>1920 x 1080</td>\n",
       "      <td>2</td>\n",
       "      <td>8 gb</td>\n",
       "      <td>['windows 10 home']</td>\n",
       "      <td>hdd</td>\n",
       "      <td>NaN</td>\n",
       "      <td>['SD card reader']</td>\n",
       "      <td>ddr4</td>\n",
       "      <td>1.6</td>\n",
       "      <td>intel core i7</td>\n",
       "      <td>new</td>\n",
       "      <td>1000.0</td>\n",
       "      <td>producer warranty</td>\n",
       "      <td>15\" - 15.9\"</td>\n",
       "      <td>3399.0</td>\n",
       "    </tr>\n",
       "    <tr>\n",
       "      <th>3</th>\n",
       "      <td>10423</td>\n",
       "      <td>NaN</td>\n",
       "      <td>NaN</td>\n",
       "      <td>NaN</td>\n",
       "      <td>2</td>\n",
       "      <td>NaN</td>\n",
       "      <td>NaN</td>\n",
       "      <td>NaN</td>\n",
       "      <td>NaN</td>\n",
       "      <td>NaN</td>\n",
       "      <td>NaN</td>\n",
       "      <td>NaN</td>\n",
       "      <td>NaN</td>\n",
       "      <td>new</td>\n",
       "      <td>NaN</td>\n",
       "      <td>producer warranty</td>\n",
       "      <td>NaN</td>\n",
       "      <td>1599.0</td>\n",
       "    </tr>\n",
       "    <tr>\n",
       "      <th>4</th>\n",
       "      <td>5897</td>\n",
       "      <td>integrated graphics</td>\n",
       "      <td>['wi-fi', 'bluetooth']</td>\n",
       "      <td>2560 x 1440</td>\n",
       "      <td>4</td>\n",
       "      <td>8 gb</td>\n",
       "      <td>['windows 10 home']</td>\n",
       "      <td>ssd</td>\n",
       "      <td>['keyboard', 'touchpad', 'illuminated keyboard']</td>\n",
       "      <td>['SD card reader', 'camera', 'speakers', 'micr...</td>\n",
       "      <td>ddr4</td>\n",
       "      <td>1.2</td>\n",
       "      <td>other CPU</td>\n",
       "      <td>new</td>\n",
       "      <td>256.0</td>\n",
       "      <td>producer warranty</td>\n",
       "      <td>12\" - 12.9\"</td>\n",
       "      <td>4499.0</td>\n",
       "    </tr>\n",
       "  </tbody>\n",
       "</table>\n",
       "</div>"
      ],
      "text/plain": [
       "   Unnamed: 0    graphic card type  \\\n",
       "0        7233   dedicated graphics   \n",
       "1        5845   dedicated graphics   \n",
       "2       10303                  NaN   \n",
       "3       10423                  NaN   \n",
       "4        5897  integrated graphics   \n",
       "\n",
       "                                    communications resolution (px) CPU cores  \\\n",
       "0            ['bluetooth', 'lan 10/100/1000 mbps']     1920 x 1080         4   \n",
       "1        ['wi-fi', 'bluetooth', 'lan 10/100 mbps']      1366 x 768         4   \n",
       "2  ['bluetooth', 'nfc (near field communication)']     1920 x 1080         2   \n",
       "3                                              NaN             NaN         2   \n",
       "4                           ['wi-fi', 'bluetooth']     2560 x 1440         4   \n",
       "\n",
       "  RAM size     operating system drive type  \\\n",
       "0    32 gb        ['no system']  ssd + hdd   \n",
       "1     8 gb  ['windows 10 home']        ssd   \n",
       "2     8 gb  ['windows 10 home']        hdd   \n",
       "3      NaN                  NaN        NaN   \n",
       "4     8 gb  ['windows 10 home']        ssd   \n",
       "\n",
       "                                       input devices  \\\n",
       "0  ['keyboard', 'touchpad', 'illuminated keyboard...   \n",
       "1       ['keyboard', 'touchpad', 'numeric keyboard']   \n",
       "2                                                NaN   \n",
       "3                                                NaN   \n",
       "4   ['keyboard', 'touchpad', 'illuminated keyboard']   \n",
       "\n",
       "                                          multimedia RAM type  \\\n",
       "0  ['SD card reader', 'camera', 'speakers', 'micr...     ddr4   \n",
       "1  ['SD card reader', 'camera', 'speakers', 'micr...     ddr3   \n",
       "2                                 ['SD card reader']     ddr4   \n",
       "3                                                NaN      NaN   \n",
       "4  ['SD card reader', 'camera', 'speakers', 'micr...     ddr4   \n",
       "\n",
       "   CPU clock speed (GHz)      CPU model state  drive memory size (GB)  \\\n",
       "0                    2.6  intel core i7   new                  1250.0   \n",
       "1                    2.4  intel core i7   new                   256.0   \n",
       "2                    1.6  intel core i7   new                  1000.0   \n",
       "3                    NaN            NaN   new                     NaN   \n",
       "4                    1.2      other CPU   new                   256.0   \n",
       "\n",
       "            warranty  screen size  buynow_price  \n",
       "0  producer warranty  17\" - 17.9\"        4999.0  \n",
       "1    seller warranty  15\" - 15.9\"        2649.0  \n",
       "2  producer warranty  15\" - 15.9\"        3399.0  \n",
       "3  producer warranty          NaN        1599.0  \n",
       "4  producer warranty  12\" - 12.9\"        4499.0  "
      ]
     },
     "execution_count": 5,
     "metadata": {},
     "output_type": "execute_result"
    }
   ],
   "source": [
    "df.head()"
   ]
  },
  {
   "cell_type": "code",
   "execution_count": 6,
   "metadata": {},
   "outputs": [
    {
     "data": {
      "text/plain": [
       "(7853, 18)"
      ]
     },
     "execution_count": 6,
     "metadata": {},
     "output_type": "execute_result"
    }
   ],
   "source": [
    "df.shape"
   ]
  },
  {
   "cell_type": "code",
   "execution_count": 7,
   "metadata": {},
   "outputs": [
    {
     "name": "stdout",
     "output_type": "stream",
     "text": [
      "<class 'pandas.core.frame.DataFrame'>\n",
      "RangeIndex: 7853 entries, 0 to 7852\n",
      "Data columns (total 18 columns):\n",
      " #   Column                  Non-Null Count  Dtype  \n",
      "---  ------                  --------------  -----  \n",
      " 0   Unnamed: 0              7853 non-null   int64  \n",
      " 1   graphic card type       7357 non-null   object \n",
      " 2   communications          7071 non-null   object \n",
      " 3   resolution (px)         7245 non-null   object \n",
      " 4   CPU cores               7853 non-null   object \n",
      " 5   RAM size                7403 non-null   object \n",
      " 6   operating system        7203 non-null   object \n",
      " 7   drive type              7418 non-null   object \n",
      " 8   input devices           7175 non-null   object \n",
      " 9   multimedia              7145 non-null   object \n",
      " 10  RAM type                6989 non-null   object \n",
      " 11  CPU clock speed (GHz)   6917 non-null   float64\n",
      " 12  CPU model               7320 non-null   object \n",
      " 13  state                   7853 non-null   object \n",
      " 14  drive memory size (GB)  7372 non-null   float64\n",
      " 15  warranty                7853 non-null   object \n",
      " 16  screen size             7507 non-null   object \n",
      " 17  buynow_price            7853 non-null   float64\n",
      "dtypes: float64(3), int64(1), object(14)\n",
      "memory usage: 1.1+ MB\n"
     ]
    }
   ],
   "source": [
    "df.info()"
   ]
  },
  {
   "cell_type": "code",
   "execution_count": 8,
   "metadata": {},
   "outputs": [
    {
     "data": {
      "text/plain": [
       "0"
      ]
     },
     "execution_count": 8,
     "metadata": {},
     "output_type": "execute_result"
    }
   ],
   "source": [
    "df.duplicated().sum()"
   ]
  },
  {
   "cell_type": "code",
   "execution_count": 9,
   "metadata": {},
   "outputs": [
    {
     "data": {
      "text/plain": [
       "Unnamed: 0                  0\n",
       "graphic card type         496\n",
       "communications            782\n",
       "resolution (px)           608\n",
       "CPU cores                   0\n",
       "RAM size                  450\n",
       "operating system          650\n",
       "drive type                435\n",
       "input devices             678\n",
       "multimedia                708\n",
       "RAM type                  864\n",
       "CPU clock speed (GHz)     936\n",
       "CPU model                 533\n",
       "state                       0\n",
       "drive memory size (GB)    481\n",
       "warranty                    0\n",
       "screen size               346\n",
       "buynow_price                0\n",
       "dtype: int64"
      ]
     },
     "execution_count": 9,
     "metadata": {},
     "output_type": "execute_result"
    }
   ],
   "source": [
    "df.isnull().sum()"
   ]
  },
  {
   "cell_type": "code",
   "execution_count": 10,
   "metadata": {},
   "outputs": [],
   "source": [
    "df.dropna(inplace=True)"
   ]
  },
  {
   "cell_type": "code",
   "execution_count": 11,
   "metadata": {},
   "outputs": [],
   "source": [
    "format_col = ['communications','operating system','multimedia']"
   ]
  },
  {
   "cell_type": "code",
   "execution_count": 12,
   "metadata": {},
   "outputs": [],
   "source": [
    "for i in format_col:\n",
    "    df[i] = df[i].str.replace(\"[\\[\\]']\", \"\", regex=True)"
   ]
  },
  {
   "cell_type": "code",
   "execution_count": 13,
   "metadata": {},
   "outputs": [
    {
     "name": "stdout",
     "output_type": "stream",
     "text": [
      "Unique Values for Columns:Unnamed: 0 is [7233 5845 5897 ... 2072 4741 6980]\n",
      "----------------------------------------------------------\n",
      "Unique Values for Columns:graphic card type is ['dedicated graphics' 'integrated graphics']\n",
      "----------------------------------------------------------\n",
      "Unique Values for Columns:communications is ['bluetooth, lan 10/100/1000 mbps' 'wi-fi, bluetooth, lan 10/100 mbps'\n",
      " 'wi-fi, bluetooth' 'wi-fi, bluetooth, lan 10/100/1000 mbps'\n",
      " 'wi-fi 802.11 b/g/n/ac, bluetooth, lan 10/100/1000 mbps'\n",
      " 'bluetooth, lan 10/100 mbps'\n",
      " 'bluetooth, lan 10/100/1000 mbps, lan 10/100 mbps, intel wireless display (widi), nfc (near field communication), modem 3g (wwan)'\n",
      " 'bluetooth' 'lan 10/100 mbps, nfc (near field communication), gps'\n",
      " 'bluetooth, lan 10/100/1000 mbps, lan 10/100 mbps, intel wireless display (widi), nfc (near field communication)'\n",
      " 'lan 10/100 mbps, nfc (near field communication)'\n",
      " 'wi-fi 802.11 a/b/g/n/ac, bluetooth, lan 10/100/1000 mbps'\n",
      " 'bluetooth, nfc (near field communication)'\n",
      " 'wi-fi, bluetooth, lan 10/100/1000 mbps, modem 4g (lte)'\n",
      " 'lan 10/100 mbps, nfc (near field communication), modem 3g (wwan)'\n",
      " 'nfc (near field communication), gps'\n",
      " 'bluetooth, lan 10/100 mbps, intel wireless display (widi), nfc (near field communication)'\n",
      " 'wi-fi, bluetooth, lan 10/100/1000 mbps, lan 10/100 mbps'\n",
      " 'wi-fi 802.11 b/g/n/ac, bluetooth, lan 10/100/1000 mbps, intel wireless display (widi)'\n",
      " 'bluetooth, nfc (near field communication), modem 3g (wwan)'\n",
      " 'wi-fi, bluetooth, lan 10/100/1000 mbps, modem 3g (wwan), modem 4g (lte)'\n",
      " 'wi-fi, bluetooth, lan 10/100/1000 mbps, intel wireless display (widi)'\n",
      " 'bluetooth, lan 10/100/1000 mbps, lan 10/100 mbps'\n",
      " 'nfc (near field communication), modem 3g (wwan)'\n",
      " 'wi-fi, bluetooth, lan 10/100 mbps, intel wireless display (widi), modem 3g (wwan), modem 4g (lte)'\n",
      " 'lan 10/100/1000 mbps' 'bluetooth, intel wireless display (widi)'\n",
      " 'bluetooth, lan 10/100/1000 mbps, intel wireless display (widi)'\n",
      " 'bluetooth, lan 10/100/1000 mbps, modem 4g (lte)'\n",
      " 'wi-fi, bluetooth, lan 10/100 mbps, modem 3g (wwan), modem 4g (lte)'\n",
      " 'bluetooth, nfc (near field communication), gps'\n",
      " 'bluetooth, lan 10/100 mbps, modem 4g (lte)' 'gps' 'wi-fi'\n",
      " 'wi-fi 802.11 b/g/n, lan 10/100/1000 mbps'\n",
      " 'wi-fi 802.11 b/g/n, bluetooth'\n",
      " 'bluetooth, lan 10/100 mbps, nfc (near field communication), modem 3g (wwan)'\n",
      " 'wi-fi 802.11 b/g/n, bluetooth, lan 10/100/1000 mbps'\n",
      " 'lan 10/100 mbps, intel wireless display (widi), nfc (near field communication), modem 3g (wwan)'\n",
      " 'nfc (near field communication)' 'intel wireless display (widi)'\n",
      " 'wi-fi 802.11 b/g/n/ac, bluetooth'\n",
      " 'wi-fi, bluetooth, lan 10/100 mbps, intel wireless display (widi)'\n",
      " 'wi-fi 802.11 b/g/n, bluetooth, lan 10/100 mbps'\n",
      " 'wi-fi 802.11 a/b/g/n, bluetooth, lan 10/100 mbps'\n",
      " 'lan 10/100/1000 mbps, nfc (near field communication), modem 3g (wwan)'\n",
      " 'bluetooth, lan 10/100 mbps, intel wireless display (widi)'\n",
      " 'wi-fi 802.11 a/b/g/n/ac, bluetooth, intel wireless display (widi)'\n",
      " 'lan 10/100/1000 mbps, nfc (near field communication), gps'\n",
      " 'lan 10/100/1000 mbps, nfc (near field communication)'\n",
      " 'wi-fi, bluetooth, lan 10/100/1000 mbps, intel wireless display (widi), modem 3g (wwan), modem 4g (lte)'\n",
      " 'bluetooth, lan 10/100/1000 mbps, nfc (near field communication)'\n",
      " 'wi-fi, lan 10/100/1000 mbps, nfc (near field communication), gps'\n",
      " 'wi-fi 802.11 a/b/g/n, bluetooth, lan 10/100/1000 mbps'\n",
      " 'lan 10/100/1000 mbps, nfc (near field communication), modem 4g (lte)'\n",
      " 'wi-fi 802.11 a/b/g/n, bluetooth' 'wi-fi 802.11 b/g/n/ac'\n",
      " 'wi-fi 802.11 a/b/g/n/ac, bluetooth, lan 10/100 mbps'\n",
      " 'wi-fi, lan 10/100/1000 mbps'\n",
      " 'lan 10/100 mbps, nfc (near field communication), modem 4g (lte)'\n",
      " 'wi-fi 802.11 a/b/g/n/ac, bluetooth'\n",
      " 'bluetooth, lan 10/100/1000 mbps, lan 10/100 mbps, nfc (near field communication)'\n",
      " 'bluetooth, modem 4g (lte)'\n",
      " 'wi-fi, bluetooth, modem 3g (wwan), modem 4g (lte)'\n",
      " 'wi-fi 802.11 b/g/n/ac, bluetooth, lan 10/100 mbps, intel wireless display (widi)'\n",
      " 'wi-fi, bluetooth, gps, modem 3g (wwan), modem 4g (lte)'\n",
      " 'wi-fi 802.11 a/b/g/n/ac, lan 10/100/1000 mbps'\n",
      " 'wi-fi, bluetooth, lan 10/100/1000 mbps, gps'\n",
      " 'bluetooth, lan 10/100/1000 mbps, modem 3g (wwan)'\n",
      " 'wi-fi 802.11 a/b/g/n/ac, bluetooth, lan 10/100/1000 mbps, modem 4g (lte)'\n",
      " 'wi-fi, bluetooth, modem 4g (lte)'\n",
      " 'wi-fi, bluetooth, intel wireless display (widi)'\n",
      " 'intel wireless display (widi), nfc (near field communication)'\n",
      " 'wi-fi, bluetooth, modem 3g (wwan)'\n",
      " 'wi-fi 802.11 b/g/n/ac, bluetooth, lan 10/100 mbps'\n",
      " 'lan 10/100/1000 mbps, nfc (near field communication), gps, modem 4g (lte)'\n",
      " 'wi-fi 802.11 b/g/n/ac, wi-fi 802.11 a/b/g/n/ac, wi-fi 802.11 b/g/n, wi-fi 802.11 a/b/g/n, bluetooth, lan 10/100 mbps'\n",
      " 'wi-fi, bluetooth, lan 10/100 mbps, intel wireless display (widi), modem 3g (wwan)'\n",
      " 'wi-fi 802.11 b/g/n, bluetooth, lan 10/100 mbps, intel wireless display (widi)'\n",
      " 'wi-fi, lan 10/100 mbps'\n",
      " 'wi-fi, bluetooth, lan 10/100/1000 mbps, nfc (near field communication), modem 3g (wwan), modem 4g (lte)'\n",
      " 'wi-fi, bluetooth, lan 10/100 mbps, modem 4g (lte)'\n",
      " 'wi-fi 802.11 a/b/g/n/ac, bluetooth, lan 10/100/1000 mbps, intel wireless display (widi)'\n",
      " 'bluetooth, modem 3g (wwan)'\n",
      " 'bluetooth, lan 10/100/1000 mbps, intel wireless display (widi), nfc (near field communication)']\n",
      "----------------------------------------------------------\n",
      "Unique Values for Columns:resolution (px) is ['1920 x 1080' '1366 x 768' '2560 x 1440' '1600 x 900' '3840 x 2160'\n",
      " '1280 x 800' '3200 x 1800' '2880 x 1620' '1920 x 1280' '2160 x 1440'\n",
      " '1920 x 1200' '2560 x 1600']\n",
      "----------------------------------------------------------\n",
      "Unique Values for Columns:CPU cores is ['4' '2' '3' '8']\n",
      "----------------------------------------------------------\n",
      "Unique Values for Columns:RAM size is ['32 gb' '8 gb' '12 gb' '4 gb' '16 gb' '2 gb' '20 gb' '6 gb' '24 gb']\n",
      "----------------------------------------------------------\n",
      "Unique Values for Columns:operating system is ['no system' 'windows 10 home' 'windows 8.1 home 64-bit, other'\n",
      " 'windows 10 professional' 'windows 7 professional 64-bit'\n",
      " 'windows 7 professional 64-bit, windows 10 professional'\n",
      " 'windows 10 home, other' 'windows 8.1 home 64-bit'\n",
      " 'windows 8.1 home 32-bit, other' 'windows 8.1 home 32-bit'\n",
      " 'windows 8.1 home 64-bit, windows 10 home' 'other'\n",
      " 'windows 8.1 professional 64-bit' 'windows 10 professional, other'\n",
      " 'windows 8.1 professional 32-bit'\n",
      " 'windows 7 home 64-bit, windows 7 professional 64-bit, windows 10 professional'\n",
      " 'windows 7 home 64-bit, other' 'windows 7 home 64-bit'\n",
      " 'windows 7 professional 64-bit, windows 8.1 professional 64-bit, windows 10 professional'\n",
      " 'windows 7 professional 32-bit, windows 7 professional 64-bit, windows 10 professional']\n",
      "----------------------------------------------------------\n",
      "Unique Values for Columns:drive type is ['ssd + hdd' 'ssd' 'hdd' 'emmc' 'hybrid']\n",
      "----------------------------------------------------------\n",
      "Unique Values for Columns:input devices is [\"['keyboard', 'touchpad', 'illuminated keyboard', 'numeric keyboard']\"\n",
      " \"['keyboard', 'touchpad', 'numeric keyboard']\"\n",
      " \"['keyboard', 'touchpad', 'illuminated keyboard']\"\n",
      " \"['keyboard', 'touchpad']\" \"['touchpad']\"\n",
      " \"['keyboard', 'numeric keyboard']\" \"['touchpad', 'illuminated keyboard']\"\n",
      " \"['touchpad', 'illuminated keyboard', 'numeric keyboard']\"\n",
      " \"['illuminated keyboard']\" \"['keyboard', 'illuminated keyboard']\"]\n",
      "----------------------------------------------------------\n",
      "Unique Values for Columns:multimedia is ['SD card reader, camera, speakers, microphone'\n",
      " 'SD card reader, camera, speakers' 'SD card reader, camera, microphone'\n",
      " 'camera, speakers, microphone' 'SD card reader'\n",
      " 'SD card reader, speakers, microphone' 'microphone' 'camera, microphone'\n",
      " 'SD card reader, speakers' 'speakers, microphone'\n",
      " 'SD card reader, camera']\n",
      "----------------------------------------------------------\n",
      "Unique Values for Columns:RAM type is ['ddr4' 'ddr3' 'ddr3l']\n",
      "----------------------------------------------------------\n",
      "Unique Values for Columns:CPU clock speed (GHz) is [2.6  2.4  1.2  2.   2.5  2.8  1.9  1.6  1.1  2.24 1.8  1.7  2.1  2.7\n",
      " 2.2  3.9  2.16 2.3  2.9  1.83 1.33 0.9  1.   1.44 1.58 1.35 0.8  3.5\n",
      " 1.3  1.5  3.1  1.86 3.3  1.15 1.68 1.4  3.   2.66 2.13 1.66 3.8  0.  ]\n",
      "----------------------------------------------------------\n",
      "Unique Values for Columns:CPU model is ['intel core i7' 'other CPU' 'intel core i3' 'intel core i5'\n",
      " 'intel celeron dual-core' 'intel celeron quad core ' 'amd a6'\n",
      " 'intel pentium dual-core' 'intel celeron ' 'amd a8'\n",
      " 'intel pentium quad-core ' 'intel core m' 'amd a4' 'intel celeron m'\n",
      " 'amd e1' 'amd a12' 'amd a10']\n",
      "----------------------------------------------------------\n",
      "Unique Values for Columns:state is ['new']\n",
      "----------------------------------------------------------\n",
      "Unique Values for Columns:drive memory size (GB) is [ 1250.   256.  1000.  1128.  1240.   120.  1256.   480.   250.   240.\n",
      "   500.   128.   960.    64.  1120.  2128.   512.  1512.  1500.  2000.\n",
      "  1628.  2256.    32.   180.  2512.  2500.  1756.   628.   508.  1012.\n",
      "   756.  2480.  2048.  1008.   990.  2120.   750.   608.   496.  2960.\n",
      "   192.   368.   384.   740.   525.  1480.   152.   516.   364.  1728.\n",
      "  1726.   524.   768.  1525.   272.  2250.   320.  1024. 10000.   980.]\n",
      "----------------------------------------------------------\n",
      "Unique Values for Columns:warranty is ['producer warranty' 'seller warranty']\n",
      "----------------------------------------------------------\n",
      "Unique Values for Columns:screen size is ['17\" - 17.9\"' '15\" - 15.9\"' '12\" - 12.9\"' '14\" - 14.9\"' '13\" - 13.9\"'\n",
      " '11.9\" and less']\n",
      "----------------------------------------------------------\n",
      "Unique Values for Columns:buynow_price is [4999.   2649.   4499.   ... 3271.18 2925.36 8678.  ]\n",
      "----------------------------------------------------------\n"
     ]
    }
   ],
   "source": [
    "for i in df.columns:\n",
    "    print(f\"Unique Values for Columns:{i} is {df[i].unique()}\")\n",
    "    print(\"----------------------------------------------------------\")"
   ]
  },
  {
   "cell_type": "markdown",
   "metadata": {},
   "source": [
    "#### Finding for the above data\n",
    "1. `'Unnamed: 0','state' Columns are not going to add value to dataset hence dropping the values`\n",
    "1. `There are several columns to include None and nan values. We can not process them in a machine learning model. We will drop it since we don't have a solid knowledge to fill it all`\n",
    "1. `The columns of communications, input_devices and multimedia include multiple values in a cell in list format. We can not represent them in numerics in its current format. We will split the values of these columns into different columns.`"
   ]
  },
  {
   "cell_type": "code",
   "execution_count": 14,
   "metadata": {},
   "outputs": [],
   "source": [
    "df['X_res']=df['resolution (px)'].str.split('x',n=1,expand=True)[0]\n",
    "df['Y_res']=df['resolution (px)'].str.split('x',n=1,expand=True)[1]\n",
    "df['RAM size']=df['RAM size'].str.replace('gb','')\n",
    "df['RAM type']=df['RAM type'].str.replace('l','')"
   ]
  },
  {
   "cell_type": "code",
   "execution_count": 15,
   "metadata": {},
   "outputs": [],
   "source": [
    "df['screen size']=df['screen size'].str.extract(r'(\\d+)').astype(int)\n"
   ]
  },
  {
   "cell_type": "code",
   "execution_count": 16,
   "metadata": {},
   "outputs": [],
   "source": [
    "df['CPU cores']=df['CPU cores'].astype(int)\n",
    "df['RAM size']=df['RAM size'].astype(int)\n",
    "df['X_res']=df['X_res'].astype(int)\n",
    "df['Y_res']=df['Y_res'].astype(int)\n",
    "df['screen size']=df['screen size'].astype(int)"
   ]
  },
  {
   "cell_type": "code",
   "execution_count": 17,
   "metadata": {},
   "outputs": [],
   "source": [
    "df['ppi'] = round(np.sqrt(df['X_res']**2 + df['Y_res']**2) / df['screen size'],2)"
   ]
  },
  {
   "cell_type": "code",
   "execution_count": 18,
   "metadata": {},
   "outputs": [],
   "source": [
    "df.drop(columns=['X_res','Y_res'],inplace=True)"
   ]
  },
  {
   "cell_type": "code",
   "execution_count": 19,
   "metadata": {},
   "outputs": [],
   "source": [
    "df['bluetooth'] = df['communications'].apply(lambda x:1 if 'bluetooth' in x else 0)\n",
    "df['wifi'] = df['communications'].apply(lambda x:1 if 'wi-fi' in x else 0)\n",
    "df['lan'] = df['communications'].apply(lambda x:1 if 'lan' in x else 0)\n"
   ]
  },
  {
   "cell_type": "code",
   "execution_count": 20,
   "metadata": {},
   "outputs": [],
   "source": [
    "df['windows'] = df['operating system'].apply(lambda x:1 if 'windows' in x else 0)\n",
    "df['linux'] = df['operating system'].apply(lambda x:1 if 'linux' in x else 0)\n",
    "df['other'] = df['operating system'].apply(lambda x:1 if 'other' in x else 0)\n",
    "df['no system'] = df['operating system'].apply(lambda x:1 if 'no system' in x else 0)"
   ]
  },
  {
   "cell_type": "code",
   "execution_count": 21,
   "metadata": {},
   "outputs": [],
   "source": [
    "# Check if 'windows' equals 1 and 'other' equals 1\n",
    "mask = (df['windows'] == 1) & (df['other'] == 1)\n",
    "# Set 'other' to 0 where the condition is true\n",
    "df.loc[mask, 'other'] = 0"
   ]
  },
  {
   "cell_type": "code",
   "execution_count": 22,
   "metadata": {},
   "outputs": [],
   "source": [
    "df['hdd'] = df['drive type'].apply(lambda x:1 if 'hdd' in x else 0)\n",
    "df['ssd'] = df['drive type'].apply(lambda x:1 if 'ssd' in x else 0)\n",
    "df['emmc'] = df['drive type'].apply(lambda x:1 if 'emmc' in x else 0)\n",
    "df['hybrid'] = df['drive type'].apply(lambda x:1 if 'hybrid' in x else 0)"
   ]
  },
  {
   "cell_type": "code",
   "execution_count": 23,
   "metadata": {},
   "outputs": [],
   "source": [
    "df['keyboard'] = df['input devices'].apply(lambda x:1 if \"'keyboard'\" in x else 0)\n",
    "df['touchpad'] = df['input devices'].apply(lambda x:1 if \"'touchpad'\" in x else 0)\n",
    "df['numeric keyboard'] = df['input devices'].apply(lambda x:1 if \"'numeric keyboard'\" in x else 0)\n",
    "df['illuminated keyboard'] = df['input devices'].apply(lambda x:1 if \"'illuminated keyboard'\" in x else 0)"
   ]
  },
  {
   "cell_type": "code",
   "execution_count": 24,
   "metadata": {},
   "outputs": [],
   "source": [
    "drop_cols=['Unnamed: 0','state','resolution (px)','communications','operating system','drive type','input devices','multimedia']"
   ]
  },
  {
   "cell_type": "code",
   "execution_count": 25,
   "metadata": {},
   "outputs": [],
   "source": [
    "df.drop(columns=drop_cols,inplace=True)"
   ]
  },
  {
   "cell_type": "code",
   "execution_count": 26,
   "metadata": {},
   "outputs": [
    {
     "data": {
      "text/html": [
       "<div>\n",
       "<style scoped>\n",
       "    .dataframe tbody tr th:only-of-type {\n",
       "        vertical-align: middle;\n",
       "    }\n",
       "\n",
       "    .dataframe tbody tr th {\n",
       "        vertical-align: top;\n",
       "    }\n",
       "\n",
       "    .dataframe thead th {\n",
       "        text-align: right;\n",
       "    }\n",
       "</style>\n",
       "<table border=\"1\" class=\"dataframe\">\n",
       "  <thead>\n",
       "    <tr style=\"text-align: right;\">\n",
       "      <th></th>\n",
       "      <th>graphic card type</th>\n",
       "      <th>CPU cores</th>\n",
       "      <th>RAM size</th>\n",
       "      <th>RAM type</th>\n",
       "      <th>CPU clock speed (GHz)</th>\n",
       "      <th>CPU model</th>\n",
       "      <th>drive memory size (GB)</th>\n",
       "      <th>warranty</th>\n",
       "      <th>screen size</th>\n",
       "      <th>buynow_price</th>\n",
       "      <th>...</th>\n",
       "      <th>other</th>\n",
       "      <th>no system</th>\n",
       "      <th>hdd</th>\n",
       "      <th>ssd</th>\n",
       "      <th>emmc</th>\n",
       "      <th>hybrid</th>\n",
       "      <th>keyboard</th>\n",
       "      <th>touchpad</th>\n",
       "      <th>numeric keyboard</th>\n",
       "      <th>illuminated keyboard</th>\n",
       "    </tr>\n",
       "  </thead>\n",
       "  <tbody>\n",
       "    <tr>\n",
       "      <th>599</th>\n",
       "      <td>integrated graphics</td>\n",
       "      <td>2</td>\n",
       "      <td>8</td>\n",
       "      <td>ddr3</td>\n",
       "      <td>2.3</td>\n",
       "      <td>intel core i5</td>\n",
       "      <td>120.0</td>\n",
       "      <td>producer warranty</td>\n",
       "      <td>15</td>\n",
       "      <td>2749.0</td>\n",
       "      <td>...</td>\n",
       "      <td>0</td>\n",
       "      <td>0</td>\n",
       "      <td>0</td>\n",
       "      <td>1</td>\n",
       "      <td>0</td>\n",
       "      <td>0</td>\n",
       "      <td>0</td>\n",
       "      <td>1</td>\n",
       "      <td>0</td>\n",
       "      <td>0</td>\n",
       "    </tr>\n",
       "  </tbody>\n",
       "</table>\n",
       "<p>1 rows × 26 columns</p>\n",
       "</div>"
      ],
      "text/plain": [
       "       graphic card type  CPU cores  RAM size RAM type  CPU clock speed (GHz)  \\\n",
       "599  integrated graphics          2         8     ddr3                    2.3   \n",
       "\n",
       "         CPU model  drive memory size (GB)           warranty  screen size  \\\n",
       "599  intel core i5                   120.0  producer warranty           15   \n",
       "\n",
       "     buynow_price  ...  other  no system  hdd  ssd  emmc  hybrid  keyboard  \\\n",
       "599        2749.0  ...      0          0    0    1     0       0         0   \n",
       "\n",
       "     touchpad  numeric keyboard  illuminated keyboard  \n",
       "599         1                 0                     0  \n",
       "\n",
       "[1 rows x 26 columns]"
      ]
     },
     "execution_count": 26,
     "metadata": {},
     "output_type": "execute_result"
    }
   ],
   "source": [
    "df.sample()"
   ]
  },
  {
   "cell_type": "code",
   "execution_count": 27,
   "metadata": {},
   "outputs": [
    {
     "data": {
      "text/plain": [
       "(6109, 26)"
      ]
     },
     "execution_count": 27,
     "metadata": {},
     "output_type": "execute_result"
    }
   ],
   "source": [
    "df.shape"
   ]
  },
  {
   "cell_type": "code",
   "execution_count": 28,
   "metadata": {},
   "outputs": [
    {
     "name": "stdout",
     "output_type": "stream",
     "text": [
      "<class 'pandas.core.frame.DataFrame'>\n",
      "Int64Index: 6109 entries, 0 to 7850\n",
      "Data columns (total 26 columns):\n",
      " #   Column                  Non-Null Count  Dtype  \n",
      "---  ------                  --------------  -----  \n",
      " 0   graphic card type       6109 non-null   object \n",
      " 1   CPU cores               6109 non-null   int32  \n",
      " 2   RAM size                6109 non-null   int32  \n",
      " 3   RAM type                6109 non-null   object \n",
      " 4   CPU clock speed (GHz)   6109 non-null   float64\n",
      " 5   CPU model               6109 non-null   object \n",
      " 6   drive memory size (GB)  6109 non-null   float64\n",
      " 7   warranty                6109 non-null   object \n",
      " 8   screen size             6109 non-null   int32  \n",
      " 9   buynow_price            6109 non-null   float64\n",
      " 10  ppi                     6109 non-null   float64\n",
      " 11  bluetooth               6109 non-null   int64  \n",
      " 12  wifi                    6109 non-null   int64  \n",
      " 13  lan                     6109 non-null   int64  \n",
      " 14  windows                 6109 non-null   int64  \n",
      " 15  linux                   6109 non-null   int64  \n",
      " 16  other                   6109 non-null   int64  \n",
      " 17  no system               6109 non-null   int64  \n",
      " 18  hdd                     6109 non-null   int64  \n",
      " 19  ssd                     6109 non-null   int64  \n",
      " 20  emmc                    6109 non-null   int64  \n",
      " 21  hybrid                  6109 non-null   int64  \n",
      " 22  keyboard                6109 non-null   int64  \n",
      " 23  touchpad                6109 non-null   int64  \n",
      " 24  numeric keyboard        6109 non-null   int64  \n",
      " 25  illuminated keyboard    6109 non-null   int64  \n",
      "dtypes: float64(4), int32(3), int64(15), object(4)\n",
      "memory usage: 1.2+ MB\n"
     ]
    }
   ],
   "source": [
    "df.info()"
   ]
  },
  {
   "cell_type": "code",
   "execution_count": 29,
   "metadata": {},
   "outputs": [],
   "source": [
    "df.to_excel('cleaned.xlsx')"
   ]
  },
  {
   "cell_type": "code",
   "execution_count": 30,
   "metadata": {},
   "outputs": [
    {
     "data": {
      "text/plain": [
       "<AxesSubplot:xlabel='buynow_price', ylabel='Density'>"
      ]
     },
     "execution_count": 30,
     "metadata": {},
     "output_type": "execute_result"
    },
    {
     "data": {
      "image/png": "[encoded data removed]",
      "text/plain": [
       "<Figure size 432x288 with 1 Axes>"
      ]
     },
     "metadata": {
      "needs_background": "light"
     },
     "output_type": "display_data"
    }
   ],
   "source": [
    "sns.distplot(df['buynow_price'])"
   ]
  },
  {
   "cell_type": "code",
   "execution_count": 31,
   "metadata": {},
   "outputs": [
    {
     "data": {
      "image/png": "[encoded data removed]",
      "text/plain": [
       "<Figure size 432x288 with 1 Axes>"
      ]
     },
     "metadata": {
      "needs_background": "light"
     },
     "output_type": "display_data"
    }
   ],
   "source": [
    "sns.barplot(x=df['graphic card type'],y=df['buynow_price'])\n",
    "plt.show()"
   ]
  },
  {
   "cell_type": "code",
   "execution_count": 32,
   "metadata": {},
   "outputs": [
    {
     "data": {
      "image/png": "[encoded data removed]",
      "text/plain": [
       "<Figure size 432x288 with 1 Axes>"
      ]
     },
     "metadata": {
      "needs_background": "light"
     },
     "output_type": "display_data"
    }
   ],
   "source": [
    "sns.barplot(x=df['RAM type'],y=df['buynow_price'])\n",
    "plt.show()"
   ]
  },
  {
   "cell_type": "code",
   "execution_count": 33,
   "metadata": {},
   "outputs": [
    {
     "data": {
      "image/png": "[encoded data removed]",
      "text/plain": [
       "<Figure size 432x288 with 1 Axes>"
      ]
     },
     "metadata": {
      "needs_background": "light"
     },
     "output_type": "display_data"
    }
   ],
   "source": [
    "sns.barplot(x=df['RAM size'],y=df['buynow_price'])\n",
    "plt.show()"
   ]
  },
  {
   "cell_type": "code",
   "execution_count": 34,
   "metadata": {},
   "outputs": [
    {
     "data": {
      "image/png": "[encoded data removed]",
      "text/plain": [
       "<Figure size 432x288 with 1 Axes>"
      ]
     },
     "metadata": {
      "needs_background": "light"
     },
     "output_type": "display_data"
    }
   ],
   "source": [
    "sns.barplot(x=df['CPU model'],y=df['buynow_price'])\n",
    "plt.xticks(rotation='vertical')\n",
    "plt.show()"
   ]
  },
  {
   "cell_type": "code",
   "execution_count": 35,
   "metadata": {},
   "outputs": [
    {
     "data": {
      "image/png": "[encoded data removed]",
      "text/plain": [
       "<Figure size 432x288 with 1 Axes>"
      ]
     },
     "metadata": {
      "needs_background": "light"
     },
     "output_type": "display_data"
    }
   ],
   "source": [
    "sns.barplot(x=df['screen size'],y=df['buynow_price'])\n",
    "plt.xticks(rotation='vertical')\n",
    "plt.show()"
   ]
  },
  {
   "cell_type": "code",
   "execution_count": 36,
   "metadata": {},
   "outputs": [
    {
     "data": {
      "image/png": "[encoded data removed]",
      "text/plain": [
       "<Figure size 432x288 with 1 Axes>"
      ]
     },
     "metadata": {
      "needs_background": "light"
     },
     "output_type": "display_data"
    }
   ],
   "source": [
    "sns.barplot(x=df['screen size'],y=df['buynow_price'])\n",
    "plt.xticks(rotation='vertical')\n",
    "plt.show()"
   ]
  },
  {
   "cell_type": "code",
   "execution_count": 37,
   "metadata": {},
   "outputs": [
    {
     "data": {
      "text/plain": [
       "<AxesSubplot:xlabel='screen size', ylabel='Density'>"
      ]
     },
     "execution_count": 37,
     "metadata": {},
     "output_type": "execute_result"
    },
    {
     "data": {
      "image/png": "[encoded data removed]",
      "text/plain": [
       "<Figure size 432x288 with 1 Axes>"
      ]
     },
     "metadata": {
      "needs_background": "light"
     },
     "output_type": "display_data"
    }
   ],
   "source": [
    "sns.distplot(df['screen size'])"
   ]
  },
  {
   "cell_type": "code",
   "execution_count": 38,
   "metadata": {},
   "outputs": [
    {
     "data": {
      "text/plain": [
       "<AxesSubplot:xlabel='screen size', ylabel='buynow_price'>"
      ]
     },
     "execution_count": 38,
     "metadata": {},
     "output_type": "execute_result"
    },
    {
     "data": {
      "image/png": "[encoded data removed]",
      "text/plain": [
       "<Figure size 432x288 with 1 Axes>"
      ]
     },
     "metadata": {
      "needs_background": "light"
     },
     "output_type": "display_data"
    }
   ],
   "source": [
    "sns.scatterplot(x=df['screen size'],y=df['buynow_price'])\n"
   ]
  },
  {
   "cell_type": "code",
   "execution_count": 61,
   "metadata": {},
   "outputs": [
    {
     "data": {
      "text/plain": [
       "<AxesSubplot:>"
      ]
     },
     "execution_count": 61,
     "metadata": {},
     "output_type": "execute_result"
    },
    {
     "data": {
      "image/png": "[encoded data removed]",
      "text/plain": [
       "<Figure size 432x288 with 2 Axes>"
      ]
     },
     "metadata": {
      "needs_background": "light"
     },
     "output_type": "display_data"
    }
   ],
   "source": [
    "sns.heatmap(df.corr())"
   ]
  },
  {
   "cell_type": "code",
   "execution_count": 40,
   "metadata": {},
   "outputs": [
    {
     "data": {
      "text/plain": [
       "<AxesSubplot:>"
      ]
     },
     "execution_count": 40,
     "metadata": {},
     "output_type": "execute_result"
    },
    {
     "data": {
      "image/png": "[encoded data removed]",
      "text/plain": [
       "<Figure size 432x288 with 1 Axes>"
      ]
     },
     "metadata": {
      "needs_background": "light"
     },
     "output_type": "display_data"
    }
   ],
   "source": [
    "sns.boxplot(data=df['buynow_price'])"
   ]
  },
  {
   "cell_type": "code",
   "execution_count": 41,
   "metadata": {},
   "outputs": [
    {
     "data": {
      "text/html": [
       "<div>\n",
       "<style scoped>\n",
       "    .dataframe tbody tr th:only-of-type {\n",
       "        vertical-align: middle;\n",
       "    }\n",
       "\n",
       "    .dataframe tbody tr th {\n",
       "        vertical-align: top;\n",
       "    }\n",
       "\n",
       "    .dataframe thead th {\n",
       "        text-align: right;\n",
       "    }\n",
       "</style>\n",
       "<table border=\"1\" class=\"dataframe\">\n",
       "  <thead>\n",
       "    <tr style=\"text-align: right;\">\n",
       "      <th></th>\n",
       "      <th>graphic card type</th>\n",
       "      <th>CPU cores</th>\n",
       "      <th>RAM size</th>\n",
       "      <th>RAM type</th>\n",
       "      <th>CPU clock speed (GHz)</th>\n",
       "      <th>CPU model</th>\n",
       "      <th>drive memory size (GB)</th>\n",
       "      <th>warranty</th>\n",
       "      <th>screen size</th>\n",
       "      <th>buynow_price</th>\n",
       "      <th>...</th>\n",
       "      <th>other</th>\n",
       "      <th>no system</th>\n",
       "      <th>hdd</th>\n",
       "      <th>ssd</th>\n",
       "      <th>emmc</th>\n",
       "      <th>hybrid</th>\n",
       "      <th>keyboard</th>\n",
       "      <th>touchpad</th>\n",
       "      <th>numeric keyboard</th>\n",
       "      <th>illuminated keyboard</th>\n",
       "    </tr>\n",
       "  </thead>\n",
       "  <tbody>\n",
       "    <tr>\n",
       "      <th>4684</th>\n",
       "      <td>dedicated graphics</td>\n",
       "      <td>4</td>\n",
       "      <td>12</td>\n",
       "      <td>ddr4</td>\n",
       "      <td>1.8</td>\n",
       "      <td>intel core i7</td>\n",
       "      <td>256.0</td>\n",
       "      <td>producer warranty</td>\n",
       "      <td>15</td>\n",
       "      <td>4419.0</td>\n",
       "      <td>...</td>\n",
       "      <td>0</td>\n",
       "      <td>1</td>\n",
       "      <td>0</td>\n",
       "      <td>1</td>\n",
       "      <td>0</td>\n",
       "      <td>0</td>\n",
       "      <td>1</td>\n",
       "      <td>1</td>\n",
       "      <td>0</td>\n",
       "      <td>0</td>\n",
       "    </tr>\n",
       "  </tbody>\n",
       "</table>\n",
       "<p>1 rows × 26 columns</p>\n",
       "</div>"
      ],
      "text/plain": [
       "       graphic card type  CPU cores  RAM size RAM type  CPU clock speed (GHz)  \\\n",
       "4684  dedicated graphics          4        12     ddr4                    1.8   \n",
       "\n",
       "          CPU model  drive memory size (GB)           warranty  screen size  \\\n",
       "4684  intel core i7                   256.0  producer warranty           15   \n",
       "\n",
       "      buynow_price  ...  other  no system  hdd  ssd  emmc  hybrid  keyboard  \\\n",
       "4684        4419.0  ...      0          1    0    1     0       0         1   \n",
       "\n",
       "      touchpad  numeric keyboard  illuminated keyboard  \n",
       "4684         1                 0                     0  \n",
       "\n",
       "[1 rows x 26 columns]"
      ]
     },
     "execution_count": 41,
     "metadata": {},
     "output_type": "execute_result"
    }
   ],
   "source": [
    "df.sample()"
   ]
  },
  {
   "cell_type": "code",
   "execution_count": 42,
   "metadata": {},
   "outputs": [
    {
     "data": {
      "image/png": "[encoded data removed]",
      "text/plain": [
       "<Figure size 2520x720 with 1 Axes>"
      ]
     },
     "metadata": {
      "needs_background": "light"
     },
     "output_type": "display_data"
    }
   ],
   "source": [
    "plt.figure(figsize=(35,10))\n",
    "sns.boxplot(x='CPU model', y='buynow_price', data=df)\n",
    "plt.xticks(rotation='horizontal')\n",
    "plt.show()"
   ]
  },
  {
   "cell_type": "code",
   "execution_count": 43,
   "metadata": {},
   "outputs": [],
   "source": [
    "Q1 = np.percentile(df['buynow_price'], 25)\n",
    "Q3 = np.percentile(df['buynow_price'], 75)\n",
    "IQR = Q3-Q1"
   ]
  },
  {
   "cell_type": "code",
   "execution_count": 44,
   "metadata": {},
   "outputs": [],
   "source": [
    "Lowerfence = Q1-1.5*IQR\n",
    "Upperfence = Q3+1.5*IQR"
   ]
  },
  {
   "cell_type": "code",
   "execution_count": 45,
   "metadata": {},
   "outputs": [
    {
     "data": {
      "text/plain": [
       "7784.0"
      ]
     },
     "execution_count": 45,
     "metadata": {},
     "output_type": "execute_result"
    }
   ],
   "source": [
    "Upperfence"
   ]
  },
  {
   "cell_type": "code",
   "execution_count": 46,
   "metadata": {},
   "outputs": [],
   "source": [
    "med = np.median(df['buynow_price'])"
   ]
  },
  {
   "cell_type": "code",
   "execution_count": 47,
   "metadata": {},
   "outputs": [],
   "source": [
    "df.loc[df['buynow_price'] > Upperfence, 'buynow_price'] = med\n",
    "df.loc[df['buynow_price'] < Lowerfence, 'buynow_price'] = med"
   ]
  },
  {
   "cell_type": "code",
   "execution_count": 48,
   "metadata": {},
   "outputs": [
    {
     "data": {
      "text/plain": [
       "<AxesSubplot:xlabel='buynow_price', ylabel='Density'>"
      ]
     },
     "execution_count": 48,
     "metadata": {},
     "output_type": "execute_result"
    },
    {
     "data": {
      "image/png": "[encoded data removed]",
      "text/plain": [
       "<Figure size 432x288 with 1 Axes>"
      ]
     },
     "metadata": {
      "needs_background": "light"
     },
     "output_type": "display_data"
    }
   ],
   "source": [
    "sns.distplot(np.log(df['buynow_price']))\n"
   ]
  },
  {
   "cell_type": "code",
   "execution_count": 49,
   "metadata": {},
   "outputs": [],
   "source": [
    "X = df.drop(columns=['buynow_price'])\n",
    "y = np.log(df['buynow_price'])"
   ]
  },
  {
   "cell_type": "code",
   "execution_count": 50,
   "metadata": {},
   "outputs": [],
   "source": [
    "X_train,X_test,y_train,y_test = train_test_split(X,y,test_size=0.15,random_state=2)"
   ]
  },
  {
   "cell_type": "code",
   "execution_count": 51,
   "metadata": {},
   "outputs": [
    {
     "data": {
      "text/html": [
       "<div>\n",
       "<style scoped>\n",
       "    .dataframe tbody tr th:only-of-type {\n",
       "        vertical-align: middle;\n",
       "    }\n",
       "\n",
       "    .dataframe tbody tr th {\n",
       "        vertical-align: top;\n",
       "    }\n",
       "\n",
       "    .dataframe thead th {\n",
       "        text-align: right;\n",
       "    }\n",
       "</style>\n",
       "<table border=\"1\" class=\"dataframe\">\n",
       "  <thead>\n",
       "    <tr style=\"text-align: right;\">\n",
       "      <th></th>\n",
       "      <th>graphic card type</th>\n",
       "      <th>CPU cores</th>\n",
       "      <th>RAM size</th>\n",
       "      <th>RAM type</th>\n",
       "      <th>CPU clock speed (GHz)</th>\n",
       "      <th>CPU model</th>\n",
       "      <th>drive memory size (GB)</th>\n",
       "      <th>warranty</th>\n",
       "      <th>screen size</th>\n",
       "      <th>ppi</th>\n",
       "      <th>...</th>\n",
       "      <th>other</th>\n",
       "      <th>no system</th>\n",
       "      <th>hdd</th>\n",
       "      <th>ssd</th>\n",
       "      <th>emmc</th>\n",
       "      <th>hybrid</th>\n",
       "      <th>keyboard</th>\n",
       "      <th>touchpad</th>\n",
       "      <th>numeric keyboard</th>\n",
       "      <th>illuminated keyboard</th>\n",
       "    </tr>\n",
       "  </thead>\n",
       "  <tbody>\n",
       "    <tr>\n",
       "      <th>1396</th>\n",
       "      <td>integrated graphics</td>\n",
       "      <td>2</td>\n",
       "      <td>8</td>\n",
       "      <td>ddr4</td>\n",
       "      <td>2.5</td>\n",
       "      <td>intel core i5</td>\n",
       "      <td>1128.0</td>\n",
       "      <td>producer warranty</td>\n",
       "      <td>15</td>\n",
       "      <td>146.86</td>\n",
       "      <td>...</td>\n",
       "      <td>0</td>\n",
       "      <td>0</td>\n",
       "      <td>1</td>\n",
       "      <td>1</td>\n",
       "      <td>0</td>\n",
       "      <td>0</td>\n",
       "      <td>1</td>\n",
       "      <td>1</td>\n",
       "      <td>1</td>\n",
       "      <td>0</td>\n",
       "    </tr>\n",
       "    <tr>\n",
       "      <th>5088</th>\n",
       "      <td>dedicated graphics</td>\n",
       "      <td>4</td>\n",
       "      <td>32</td>\n",
       "      <td>ddr4</td>\n",
       "      <td>2.8</td>\n",
       "      <td>intel core i7</td>\n",
       "      <td>960.0</td>\n",
       "      <td>producer warranty</td>\n",
       "      <td>15</td>\n",
       "      <td>146.86</td>\n",
       "      <td>...</td>\n",
       "      <td>0</td>\n",
       "      <td>0</td>\n",
       "      <td>0</td>\n",
       "      <td>1</td>\n",
       "      <td>0</td>\n",
       "      <td>0</td>\n",
       "      <td>1</td>\n",
       "      <td>1</td>\n",
       "      <td>0</td>\n",
       "      <td>1</td>\n",
       "    </tr>\n",
       "    <tr>\n",
       "      <th>774</th>\n",
       "      <td>integrated graphics</td>\n",
       "      <td>2</td>\n",
       "      <td>2</td>\n",
       "      <td>ddr3</td>\n",
       "      <td>1.6</td>\n",
       "      <td>intel celeron</td>\n",
       "      <td>32.0</td>\n",
       "      <td>producer warranty</td>\n",
       "      <td>11</td>\n",
       "      <td>142.46</td>\n",
       "      <td>...</td>\n",
       "      <td>0</td>\n",
       "      <td>0</td>\n",
       "      <td>0</td>\n",
       "      <td>1</td>\n",
       "      <td>0</td>\n",
       "      <td>0</td>\n",
       "      <td>1</td>\n",
       "      <td>1</td>\n",
       "      <td>0</td>\n",
       "      <td>0</td>\n",
       "    </tr>\n",
       "    <tr>\n",
       "      <th>5864</th>\n",
       "      <td>dedicated graphics</td>\n",
       "      <td>2</td>\n",
       "      <td>8</td>\n",
       "      <td>ddr3</td>\n",
       "      <td>2.0</td>\n",
       "      <td>intel core i7</td>\n",
       "      <td>1000.0</td>\n",
       "      <td>seller warranty</td>\n",
       "      <td>15</td>\n",
       "      <td>146.86</td>\n",
       "      <td>...</td>\n",
       "      <td>0</td>\n",
       "      <td>0</td>\n",
       "      <td>0</td>\n",
       "      <td>0</td>\n",
       "      <td>0</td>\n",
       "      <td>1</td>\n",
       "      <td>1</td>\n",
       "      <td>1</td>\n",
       "      <td>1</td>\n",
       "      <td>0</td>\n",
       "    </tr>\n",
       "    <tr>\n",
       "      <th>3397</th>\n",
       "      <td>dedicated graphics</td>\n",
       "      <td>2</td>\n",
       "      <td>12</td>\n",
       "      <td>ddr4</td>\n",
       "      <td>2.7</td>\n",
       "      <td>intel core i7</td>\n",
       "      <td>1000.0</td>\n",
       "      <td>producer warranty</td>\n",
       "      <td>15</td>\n",
       "      <td>146.86</td>\n",
       "      <td>...</td>\n",
       "      <td>0</td>\n",
       "      <td>0</td>\n",
       "      <td>1</td>\n",
       "      <td>0</td>\n",
       "      <td>0</td>\n",
       "      <td>0</td>\n",
       "      <td>1</td>\n",
       "      <td>1</td>\n",
       "      <td>1</td>\n",
       "      <td>1</td>\n",
       "    </tr>\n",
       "    <tr>\n",
       "      <th>...</th>\n",
       "      <td>...</td>\n",
       "      <td>...</td>\n",
       "      <td>...</td>\n",
       "      <td>...</td>\n",
       "      <td>...</td>\n",
       "      <td>...</td>\n",
       "      <td>...</td>\n",
       "      <td>...</td>\n",
       "      <td>...</td>\n",
       "      <td>...</td>\n",
       "      <td>...</td>\n",
       "      <td>...</td>\n",
       "      <td>...</td>\n",
       "      <td>...</td>\n",
       "      <td>...</td>\n",
       "      <td>...</td>\n",
       "      <td>...</td>\n",
       "      <td>...</td>\n",
       "      <td>...</td>\n",
       "      <td>...</td>\n",
       "      <td>...</td>\n",
       "    </tr>\n",
       "    <tr>\n",
       "      <th>1382</th>\n",
       "      <td>dedicated graphics</td>\n",
       "      <td>4</td>\n",
       "      <td>16</td>\n",
       "      <td>ddr4</td>\n",
       "      <td>2.8</td>\n",
       "      <td>intel core i7</td>\n",
       "      <td>1128.0</td>\n",
       "      <td>producer warranty</td>\n",
       "      <td>15</td>\n",
       "      <td>146.86</td>\n",
       "      <td>...</td>\n",
       "      <td>0</td>\n",
       "      <td>1</td>\n",
       "      <td>1</td>\n",
       "      <td>1</td>\n",
       "      <td>0</td>\n",
       "      <td>0</td>\n",
       "      <td>1</td>\n",
       "      <td>1</td>\n",
       "      <td>1</td>\n",
       "      <td>1</td>\n",
       "    </tr>\n",
       "    <tr>\n",
       "      <th>3164</th>\n",
       "      <td>dedicated graphics</td>\n",
       "      <td>4</td>\n",
       "      <td>8</td>\n",
       "      <td>ddr4</td>\n",
       "      <td>2.8</td>\n",
       "      <td>intel core i7</td>\n",
       "      <td>512.0</td>\n",
       "      <td>producer warranty</td>\n",
       "      <td>15</td>\n",
       "      <td>146.86</td>\n",
       "      <td>...</td>\n",
       "      <td>0</td>\n",
       "      <td>0</td>\n",
       "      <td>0</td>\n",
       "      <td>1</td>\n",
       "      <td>0</td>\n",
       "      <td>0</td>\n",
       "      <td>1</td>\n",
       "      <td>1</td>\n",
       "      <td>0</td>\n",
       "      <td>1</td>\n",
       "    </tr>\n",
       "    <tr>\n",
       "      <th>4599</th>\n",
       "      <td>integrated graphics</td>\n",
       "      <td>2</td>\n",
       "      <td>8</td>\n",
       "      <td>ddr4</td>\n",
       "      <td>2.5</td>\n",
       "      <td>intel core i5</td>\n",
       "      <td>256.0</td>\n",
       "      <td>producer warranty</td>\n",
       "      <td>14</td>\n",
       "      <td>157.35</td>\n",
       "      <td>...</td>\n",
       "      <td>0</td>\n",
       "      <td>0</td>\n",
       "      <td>0</td>\n",
       "      <td>1</td>\n",
       "      <td>0</td>\n",
       "      <td>0</td>\n",
       "      <td>1</td>\n",
       "      <td>1</td>\n",
       "      <td>0</td>\n",
       "      <td>1</td>\n",
       "    </tr>\n",
       "    <tr>\n",
       "      <th>7335</th>\n",
       "      <td>dedicated graphics</td>\n",
       "      <td>2</td>\n",
       "      <td>8</td>\n",
       "      <td>ddr3</td>\n",
       "      <td>2.3</td>\n",
       "      <td>intel core i5</td>\n",
       "      <td>1628.0</td>\n",
       "      <td>producer warranty</td>\n",
       "      <td>17</td>\n",
       "      <td>129.58</td>\n",
       "      <td>...</td>\n",
       "      <td>0</td>\n",
       "      <td>0</td>\n",
       "      <td>1</td>\n",
       "      <td>1</td>\n",
       "      <td>0</td>\n",
       "      <td>0</td>\n",
       "      <td>1</td>\n",
       "      <td>1</td>\n",
       "      <td>0</td>\n",
       "      <td>0</td>\n",
       "    </tr>\n",
       "    <tr>\n",
       "      <th>3245</th>\n",
       "      <td>dedicated graphics</td>\n",
       "      <td>4</td>\n",
       "      <td>8</td>\n",
       "      <td>ddr4</td>\n",
       "      <td>2.5</td>\n",
       "      <td>intel core i5</td>\n",
       "      <td>1000.0</td>\n",
       "      <td>producer warranty</td>\n",
       "      <td>15</td>\n",
       "      <td>146.86</td>\n",
       "      <td>...</td>\n",
       "      <td>0</td>\n",
       "      <td>0</td>\n",
       "      <td>1</td>\n",
       "      <td>0</td>\n",
       "      <td>0</td>\n",
       "      <td>0</td>\n",
       "      <td>1</td>\n",
       "      <td>1</td>\n",
       "      <td>1</td>\n",
       "      <td>1</td>\n",
       "    </tr>\n",
       "  </tbody>\n",
       "</table>\n",
       "<p>5192 rows × 25 columns</p>\n",
       "</div>"
      ],
      "text/plain": [
       "        graphic card type  CPU cores  RAM size RAM type  \\\n",
       "1396  integrated graphics          2         8     ddr4   \n",
       "5088   dedicated graphics          4        32     ddr4   \n",
       "774   integrated graphics          2         2     ddr3   \n",
       "5864   dedicated graphics          2         8     ddr3   \n",
       "3397   dedicated graphics          2        12     ddr4   \n",
       "...                   ...        ...       ...      ...   \n",
       "1382   dedicated graphics          4        16     ddr4   \n",
       "3164   dedicated graphics          4         8     ddr4   \n",
       "4599  integrated graphics          2         8     ddr4   \n",
       "7335   dedicated graphics          2         8     ddr3   \n",
       "3245   dedicated graphics          4         8     ddr4   \n",
       "\n",
       "      CPU clock speed (GHz)       CPU model  drive memory size (GB)  \\\n",
       "1396                    2.5   intel core i5                  1128.0   \n",
       "5088                    2.8   intel core i7                   960.0   \n",
       "774                     1.6  intel celeron                     32.0   \n",
       "5864                    2.0   intel core i7                  1000.0   \n",
       "3397                    2.7   intel core i7                  1000.0   \n",
       "...                     ...             ...                     ...   \n",
       "1382                    2.8   intel core i7                  1128.0   \n",
       "3164                    2.8   intel core i7                   512.0   \n",
       "4599                    2.5   intel core i5                   256.0   \n",
       "7335                    2.3   intel core i5                  1628.0   \n",
       "3245                    2.5   intel core i5                  1000.0   \n",
       "\n",
       "               warranty  screen size     ppi  ...  other  no system  hdd  ssd  \\\n",
       "1396  producer warranty           15  146.86  ...      0          0    1    1   \n",
       "5088  producer warranty           15  146.86  ...      0          0    0    1   \n",
       "774   producer warranty           11  142.46  ...      0          0    0    1   \n",
       "5864    seller warranty           15  146.86  ...      0          0    0    0   \n",
       "3397  producer warranty           15  146.86  ...      0          0    1    0   \n",
       "...                 ...          ...     ...  ...    ...        ...  ...  ...   \n",
       "1382  producer warranty           15  146.86  ...      0          1    1    1   \n",
       "3164  producer warranty           15  146.86  ...      0          0    0    1   \n",
       "4599  producer warranty           14  157.35  ...      0          0    0    1   \n",
       "7335  producer warranty           17  129.58  ...      0          0    1    1   \n",
       "3245  producer warranty           15  146.86  ...      0          0    1    0   \n",
       "\n",
       "      emmc  hybrid  keyboard  touchpad  numeric keyboard  illuminated keyboard  \n",
       "1396     0       0         1         1                 1                     0  \n",
       "5088     0       0         1         1                 0                     1  \n",
       "774      0       0         1         1                 0                     0  \n",
       "5864     0       1         1         1                 1                     0  \n",
       "3397     0       0         1         1                 1                     1  \n",
       "...    ...     ...       ...       ...               ...                   ...  \n",
       "1382     0       0         1         1                 1                     1  \n",
       "3164     0       0         1         1                 0                     1  \n",
       "4599     0       0         1         1                 0                     1  \n",
       "7335     0       0         1         1                 0                     0  \n",
       "3245     0       0         1         1                 1                     1  \n",
       "\n",
       "[5192 rows x 25 columns]"
      ]
     },
     "execution_count": 51,
     "metadata": {},
     "output_type": "execute_result"
    }
   ],
   "source": [
    "X_train"
   ]
  },
  {
   "cell_type": "markdown",
   "metadata": {},
   "source": [
    "# Model Building"
   ]
  },
  {
   "cell_type": "markdown",
   "metadata": {},
   "source": [
    "## Linear Regression"
   ]
  },
  {
   "cell_type": "code",
   "execution_count": 52,
   "metadata": {},
   "outputs": [
    {
     "name": "stdout",
     "output_type": "stream",
     "text": [
      "RMSE 0.18408866223145284\n",
      "R2 score 0.8391841000697197\n",
      "MAE 0.13505841373778849\n"
     ]
    }
   ],
   "source": [
    "step1 = ColumnTransformer(transformers=[\n",
    "    ('col_tnf',OneHotEncoder(sparse=False,drop='first'),[0,3,5,7])\n",
    "],remainder='passthrough')\n",
    "\n",
    "step2 = LinearRegression()\n",
    "\n",
    "pipe = Pipeline([\n",
    "    ('step1',step1),\n",
    "    ('step2',step2)\n",
    "])\n",
    "\n",
    "pipe.fit(X_train,y_train)\n",
    "\n",
    "y_pred = pipe.predict(X_test)\n",
    "\n",
    "print('RMSE',np.sqrt(mean_squared_error(y_test, y_pred)))\n",
    "print('R2 score',r2_score(y_test,y_pred))\n",
    "print('MAE',mean_absolute_error(y_test,y_pred))"
   ]
  },
  {
   "cell_type": "markdown",
   "metadata": {},
   "source": [
    "## Ridge Regression"
   ]
  },
  {
   "cell_type": "code",
   "execution_count": 53,
   "metadata": {},
   "outputs": [
    {
     "name": "stdout",
     "output_type": "stream",
     "text": [
      "RMSE 0.18694424747997215\n",
      "R2 score 0.8341562483171016\n",
      "MAE 0.13682326245648682\n"
     ]
    }
   ],
   "source": [
    "step1 = ColumnTransformer(transformers=[\n",
    "    ('col_tnf',OneHotEncoder(sparse=False,drop='first'),[0,3,5,7])\n",
    "],remainder='passthrough')\n",
    "\n",
    "step2 = Ridge(alpha=10)\n",
    "\n",
    "pipe = Pipeline([\n",
    "    ('step1',step1),\n",
    "    ('step2',step2)\n",
    "])\n",
    "\n",
    "pipe.fit(X_train,y_train)\n",
    "\n",
    "y_pred = pipe.predict(X_test)\n",
    "\n",
    "print('RMSE',np.sqrt(mean_squared_error(y_test, y_pred)))\n",
    "print('R2 score',r2_score(y_test,y_pred))\n",
    "print('MAE',mean_absolute_error(y_test,y_pred))"
   ]
  },
  {
   "cell_type": "markdown",
   "metadata": {},
   "source": [
    "## Lasso Regression"
   ]
  },
  {
   "cell_type": "code",
   "execution_count": 54,
   "metadata": {},
   "outputs": [
    {
     "name": "stdout",
     "output_type": "stream",
     "text": [
      "RMSE 0.19078282513076833\n",
      "R2 score 0.8272756953058719\n",
      "MAE 0.13907383981690896\n"
     ]
    }
   ],
   "source": [
    "step1 = ColumnTransformer(transformers=[\n",
    "    ('col_tnf',OneHotEncoder(sparse=False,drop='first'),[0,3,5,7])\n",
    "],remainder='passthrough')\n",
    "\n",
    "step2 = Lasso(alpha=0.001)\n",
    "\n",
    "pipe = Pipeline([\n",
    "    ('step1',step1),\n",
    "    ('step2',step2)\n",
    "])\n",
    "\n",
    "pipe.fit(X_train,y_train)\n",
    "\n",
    "y_pred = pipe.predict(X_test)\n",
    "\n",
    "print('RMSE',np.sqrt(mean_squared_error(y_test, y_pred)))\n",
    "print('R2 score',r2_score(y_test,y_pred))\n",
    "print('MAE',mean_absolute_error(y_test,y_pred))"
   ]
  },
  {
   "cell_type": "markdown",
   "metadata": {},
   "source": [
    "## KNN"
   ]
  },
  {
   "cell_type": "code",
   "execution_count": 55,
   "metadata": {},
   "outputs": [
    {
     "name": "stdout",
     "output_type": "stream",
     "text": [
      "RMSE 0.175673172043473\n",
      "R2 score 0.8535512098006105\n",
      "MAE 0.12509611553357758\n"
     ]
    }
   ],
   "source": [
    "step1 = ColumnTransformer(transformers=[\n",
    "    ('col_tnf',OneHotEncoder(sparse=False,drop='first'),[0,3,5,7])\n",
    "],remainder='passthrough')\n",
    "\n",
    "step2 = KNeighborsRegressor(n_neighbors=3)\n",
    "\n",
    "pipe = Pipeline([\n",
    "    ('step1',step1),\n",
    "    ('step2',step2)\n",
    "])\n",
    "\n",
    "pipe.fit(X_train,y_train)\n",
    "\n",
    "y_pred = pipe.predict(X_test)\n",
    "\n",
    "print('RMSE',np.sqrt(mean_squared_error(y_test, y_pred)))\n",
    "print('R2 score',r2_score(y_test,y_pred))\n",
    "print('MAE',mean_absolute_error(y_test,y_pred))"
   ]
  },
  {
   "cell_type": "markdown",
   "metadata": {},
   "source": [
    "## Decision Tree"
   ]
  },
  {
   "cell_type": "code",
   "execution_count": 56,
   "metadata": {},
   "outputs": [
    {
     "name": "stdout",
     "output_type": "stream",
     "text": [
      "RMSE 0.18014282010898716\n",
      "R2 score 0.8460042211970644\n",
      "MAE 0.1339647129629185\n"
     ]
    }
   ],
   "source": [
    "step1 = ColumnTransformer(transformers=[\n",
    "    ('col_tnf',OneHotEncoder(sparse=False,drop='first'),[0,3,5,7])\n",
    "],remainder='passthrough')\n",
    "\n",
    "step2 = DecisionTreeRegressor(max_depth=8)\n",
    "\n",
    "pipe = Pipeline([\n",
    "    ('step1',step1),\n",
    "    ('step2',step2)\n",
    "])\n",
    "\n",
    "pipe.fit(X_train,y_train)\n",
    "\n",
    "y_pred = pipe.predict(X_test)\n",
    "\n",
    "print('RMSE',np.sqrt(mean_squared_error(y_test, y_pred)))\n",
    "print('R2 score',r2_score(y_test,y_pred))\n",
    "print('MAE',mean_absolute_error(y_test,y_pred))"
   ]
  },
  {
   "cell_type": "markdown",
   "metadata": {},
   "source": [
    "## Random Forest"
   ]
  },
  {
   "cell_type": "code",
   "execution_count": 57,
   "metadata": {},
   "outputs": [
    {
     "name": "stdout",
     "output_type": "stream",
     "text": [
      "RMSE 0.1367438601579829\n",
      "R2 score 0.9112658950637865\n",
      "MAE 0.0958890112055825\n"
     ]
    }
   ],
   "source": [
    "step1 = ColumnTransformer(transformers=[\n",
    "    ('col_tnf',OneHotEncoder(sparse=False,drop='first'),[0,3,5,7])\n",
    "],remainder='passthrough')\n",
    "\n",
    "step2 = RandomForestRegressor(n_estimators=100,random_state=3,max_samples=0.5,max_features=0.75,max_depth=15)\n",
    "pipe = Pipeline([\n",
    "    ('step1',step1),\n",
    "    ('step2',step2)\n",
    "])\n",
    "\n",
    "pipe.fit(X_train,y_train)\n",
    "\n",
    "y_pred = pipe.predict(X_test)\n",
    "\n",
    "print('RMSE',np.sqrt(mean_squared_error(y_test, y_pred)))\n",
    "print('R2 score',r2_score(y_test,y_pred))\n",
    "print('MAE',mean_absolute_error(y_test,y_pred))"
   ]
  },
  {
   "cell_type": "code",
   "execution_count": 58,
   "metadata": {},
   "outputs": [],
   "source": [
    "import pickle"
   ]
  },
  {
   "cell_type": "code",
   "execution_count": 59,
   "metadata": {},
   "outputs": [],
   "source": [
    "pickle.dump(df,open('df.pkl','wb'),protocol=pickle.HIGHEST_PROTOCOL)\n",
    "pickle.dump(pipe,open('pipe.pkl','wb'),protocol=pickle.HIGHEST_PROTOCOL)"
   ]
  },
  {
   "cell_type": "code",
   "execution_count": null,
   "metadata": {},
   "outputs": [],
   "source": []
  }
 ],
 "metadata": {
  "kernelspec": {
   "display_name": "Python 3",
   "language": "python",
   "name": "python3"
  },
  "language_info": {
   "codemirror_mode": {
    "name": "ipython",
    "version": 3
   },
   "file_extension": ".py",
   "mimetype": "text/x-python",
   "name": "python",
   "nbconvert_exporter": "python",
   "pygments_lexer": "ipython3",
   "version": "3.7.9"
  }
 },
 "nbformat": 4,
 "nbformat_minor": 2
}
